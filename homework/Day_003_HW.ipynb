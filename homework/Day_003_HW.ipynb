{
 "cells": [
  {
   "cell_type": "markdown",
   "metadata": {},
   "source": [
    "## [作業目標]\n",
    "持續接觸有關機器學習的相關專案與最新技術"
   ]
  },
  {
   "cell_type": "markdown",
   "metadata": {},
   "source": [
    "## [作業重點]\n",
    "透過觀察頂尖公司的機器學習文章，來了解各公司是怎麼應用機器學習在實際的專案上"
   ]
  },
  {
   "cell_type": "markdown",
   "metadata": {},
   "source": [
    "## [作業]\n",
    "今天的作業希望大家能夠看看全球機器學習巨頭們在做的機器學習專案。以 google 為例，下圖是 Google 內部專案使用機器學習的數量，隨著時間進展，現在早已超過 2000 個專案在使用機器學習。"
   ]
  },
  {
   "cell_type": "markdown",
   "metadata": {},
   "source": [
    "![image](https://cdn-images-1.medium.com/max/800/1*U_L8qI8RmYS-MOBrYvXhSA.png)"
   ]
  },
  {
   "cell_type": "markdown",
   "metadata": {},
   "source": [
    "底下幫同學整理幾間知名企業的 blog 或機器學習網站 (自行搜尋也可)，這些網站都會整理最新的機器學習專案或者是技術文章，請挑選一篇文章閱讀並試著回答\n",
    "1. 專案的目標？ (要解決什麼問題）\n",
    "2. 使用的技術是？ (只需知道名稱即可，例如：使用 CNN 卷積神經網路做影像分類)\n",
    "3. 資料來源？ "
   ]
  },
  {
   "cell_type": "markdown",
   "metadata": {},
   "source": [
    "- [Google AI blog](https://ai.googleblog.com/)\n",
    "- [Facebook Research blog](https://research.fb.com/blog/)\n",
    "- [Apple machine learning journal](https://machinelearning.apple.com/)\n",
    "- [機器之心](https://www.jiqizhixin.com/)\n",
    "- [雷鋒網](http://www.leiphone.com/category/ai)"
   ]
  },
  {
   "cell_type": "code",
   "execution_count": null,
   "metadata": {},
   "outputs": [],
   "source": [
    "Ans:\n",
    "    Evaluating Natural Language Generation with BLEURT\n",
    "    1. 此專案目的為自然語言生成（NLG）的評估方法改進。\n",
    "    隨著 NLG 技術的提昇，對於模型評估的方法也增加其難度，\n",
    "    對於自動度量系統，會由於人工評分數據集資料不足無法訓練出適合NLG系統評估的指標，，\n",
    "    這個專案的目標就是利用語義級別的指標來豐富其評估工具。\n",
    "    \n",
    "    2. 專案中引入了BLEURT，是一種新穎的基於機器學習的自動度量標準，\n",
    "    可以捕獲句子之間的平凡語義相似性，並利用預訓練的架構改進BLEURT表現。\n",
    "    他的優點在於通過對維基百科的句子應用隨機擾動來生成訓練數據並且預訓練出模型，\n",
    "    該結果達到優於其他衡量標準的結果，更接近人類註釋。\n",
    "    \n",
    "    3. 資料來源：\n",
    "    - Google AI Blog: Evaluating Natural Language Generation with BLEURT\n",
    "        https://ai.googleblog.com/2020/05/evaluating-natural-language-generation.html\n",
    "    - Sellam, Thibault, Dipanjan Das, and Ankur P. Parikh. \"BLEURT: Learning Robust Metrics for Text Generation.\" arXiv preprint arXiv:2004.04696 (2020).\n",
    "    "
   ]
  }
 ],
 "metadata": {
  "kernelspec": {
   "display_name": "Python 3",
   "language": "python",
   "name": "python3"
  },
  "language_info": {
   "codemirror_mode": {
    "name": "ipython",
    "version": 3
   },
   "file_extension": ".py",
   "mimetype": "text/x-python",
   "name": "python",
   "nbconvert_exporter": "python",
   "pygments_lexer": "ipython3",
   "version": "3.6.8"
  }
 },
 "nbformat": 4,
 "nbformat_minor": 2
}
